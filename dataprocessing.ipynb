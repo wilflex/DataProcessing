{
 "cells": [
  {
   "cell_type": "markdown",
   "metadata": {},
   "source": [
    "<br>\n",
    "<CENTER><font size=\"+5\" color='#00000'><b>Nettoyage et préparation des données</b></font></CENTER>"
   ]
  },
  {
   "cell_type": "code",
   "execution_count": 1,
   "metadata": {},
   "outputs": [],
   "source": [
    "import csv\n",
    "import pandas as pd\n",
    "import numpy as np\n",
    "from numpy.random import permutation\n",
    "from MyModule import Processing\n",
    "\n",
    "import warnings\n",
    "warnings.filterwarnings('ignore')"
   ]
  },
  {
   "cell_type": "markdown",
   "metadata": {},
   "source": [
    "i. Chargement des données à l'aide du module ``pandas``\n",
    "--"
   ]
  },
  {
   "cell_type": "code",
   "execution_count": 2,
   "metadata": {},
   "outputs": [],
   "source": [
    "d = pd.read_csv('don.csv',encoding='latin-1',delimiter='\\\"',sep=';')"
   ]
  },
  {
   "cell_type": "code",
   "execution_count": 3,
   "metadata": {},
   "outputs": [
    {
     "data": {
      "text/html": [
       "<div>\n",
       "<style scoped>\n",
       "    .dataframe tbody tr th:only-of-type {\n",
       "        vertical-align: middle;\n",
       "    }\n",
       "\n",
       "    .dataframe tbody tr th {\n",
       "        vertical-align: top;\n",
       "    }\n",
       "\n",
       "    .dataframe thead th {\n",
       "        text-align: right;\n",
       "    }\n",
       "</style>\n",
       "<table border=\"1\" class=\"dataframe\">\n",
       "  <thead>\n",
       "    <tr style=\"text-align: right;\">\n",
       "      <th></th>\n",
       "      <th>age;prof;dep.cons;scz.cons;grav.cons;n.enfant;rs;ed;dr</th>\n",
       "    </tr>\n",
       "  </thead>\n",
       "  <tbody>\n",
       "    <tr>\n",
       "      <th>0</th>\n",
       "      <td>31;autre;0;0;1;2;2;1;1</td>\n",
       "    </tr>\n",
       "    <tr>\n",
       "      <th>1</th>\n",
       "      <td>49;NA;0;0;2;7;2;2;1</td>\n",
       "    </tr>\n",
       "    <tr>\n",
       "      <th>2</th>\n",
       "      <td>50@;prof.intermediaire;0;0;2;2;2;3;2</td>\n",
       "    </tr>\n",
       "    <tr>\n",
       "      <th>3</th>\n",
       "      <td>47;ouvrier;0;0;1;0;2;2;2</td>\n",
       "    </tr>\n",
       "    <tr>\n",
       "      <th>4</th>\n",
       "      <td>23;sans emploi;1;0;2;1;2;2;2</td>\n",
       "    </tr>\n",
       "  </tbody>\n",
       "</table>\n",
       "</div>"
      ],
      "text/plain": [
       "  age;prof;dep.cons;scz.cons;grav.cons;n.enfant;rs;ed;dr\n",
       "0                             31;autre;0;0;1;2;2;1;1    \n",
       "1                                49;NA;0;0;2;7;2;2;1    \n",
       "2               50@;prof.intermediaire;0;0;2;2;2;3;2    \n",
       "3                           47;ouvrier;0;0;1;0;2;2;2    \n",
       "4                       23;sans emploi;1;0;2;1;2;2;2    "
      ]
     },
     "execution_count": 3,
     "metadata": {},
     "output_type": "execute_result"
    }
   ],
   "source": [
    "d.head()"
   ]
  },
  {
   "cell_type": "markdown",
   "metadata": {},
   "source": [
    "**Remarque** : <br>\n",
    "Les données charger avec pandas n'ont pas un format exploitable. Cela peut etre expliqué par un mauvais formatage des données.\n",
    "dans la suit de ce notebook nous essayerons à travers d'autre approche de fournir un format exploitable de ce jeu de donées en le structurant et en le nettoyant."
   ]
  },
  {
   "cell_type": "markdown",
   "metadata": {},
   "source": [
    "ii. Chargement des données à l'aide du module `CSV`\n",
    "--"
   ]
  },
  {
   "cell_type": "code",
   "execution_count": 4,
   "metadata": {},
   "outputs": [
    {
     "data": {
      "text/plain": [
       "[['age;prof;dep.cons;scz.cons;grav.cons;n.enfant;rs;ed;dr'],\n",
       " ['31;autre;0;0;1;2;2;1;1'],\n",
       " ['49;NA;0;0;2;7;2;2;1'],\n",
       " ['50@;prof.intermediaire;0;0;2;2;2;3;2'],\n",
       " ['47;ouvrier;0;0;1;0;2;2;2']]"
      ]
     },
     "execution_count": 4,
     "metadata": {},
     "output_type": "execute_result"
    }
   ],
   "source": [
    "with open('don.csv') as mon_fichier:\n",
    "    mon_fichier_reader = csv.reader(mon_fichier, delimiter=';', quotechar='\"')\n",
    "    donnees = [x for x in mon_fichier_reader]  \n",
    "# affichage des 5 premières lignes du jeux de données.\n",
    "donnees[:5]"
   ]
  },
  {
   "cell_type": "markdown",
   "metadata": {},
   "source": [
    "les données ne sont certes toujours pas dans un format exploitable cependant ils sont dans des objets (`list()`) qu'on sais plus ou moins bien manipuler\n",
    "\n",
    "I. Etape 1\n",
    "--\n",
    "Nous essayerons de séparer les éléments du jeu de données en colonne et observation contenu de la colonne à l'aide de la methode `split()`"
   ]
  },
  {
   "cell_type": "code",
   "execution_count": 5,
   "metadata": {},
   "outputs": [
    {
     "data": {
      "text/plain": [
       "array([[['age', 'prof', 'dep.cons', 'scz.cons', 'grav.cons', 'n.enfant',\n",
       "         'rs', 'ed', 'dr']],\n",
       "\n",
       "       [['31', 'autre', '0', '0', '1', '2', '2', '1', '1']],\n",
       "\n",
       "       [['49', 'NA', '0', '0', '2', '7', '2', '2', '1']],\n",
       "\n",
       "       [['50@', 'prof.intermediaire', '0', '0', '2', '2', '2', '3', '2']],\n",
       "\n",
       "       [['47', 'ouvrier', '0', '0', '1', '0', '2', '2', '2']]],\n",
       "      dtype='<U18')"
      ]
     },
     "execution_count": 5,
     "metadata": {},
     "output_type": "execute_result"
    }
   ],
   "source": [
    "frame = []\n",
    "for c in donnees:\n",
    "    frame.append([j.split(';') for j in c])\n",
    "# chargement des données splitter dans un object de type ndarray    \n",
    "df = np.array(frame)\n",
    "\n",
    "# afffichage des 5 premières lignes du jeux de données\n",
    "df[:5]"
   ]
  },
  {
   "cell_type": "markdown",
   "metadata": {},
   "source": [
    "II. Etape 2\n",
    "--\n",
    "**Organisation des données**\n",
    "\n",
    "1. Traitement du nom des variables"
   ]
  },
  {
   "cell_type": "code",
   "execution_count": 6,
   "metadata": {},
   "outputs": [
    {
     "data": {
      "text/plain": [
       "['age',\n",
       " 'prof',\n",
       " 'dep.cons',\n",
       " 'scz.cons',\n",
       " 'grav.cons',\n",
       " 'n.enfant',\n",
       " 'rs',\n",
       " 'ed',\n",
       " 'dr']"
      ]
     },
     "execution_count": 6,
     "metadata": {},
     "output_type": "execute_result"
    }
   ],
   "source": [
    "name_var = [c for c in df[0][0]]\n",
    "name_var"
   ]
  },
  {
   "cell_type": "markdown",
   "metadata": {},
   "source": [
    "2. construction d'un dictionnaire pour mieux organiser notre jeu de données"
   ]
  },
  {
   "cell_type": "code",
   "execution_count": 7,
   "metadata": {},
   "outputs": [],
   "source": [
    "dic = {}\n",
    "for i in range(0,len(name_var)):\n",
    "    dic[name_var[i]] = [r[0][i] for r in df[1:df.shape[0]]]"
   ]
  },
  {
   "cell_type": "code",
   "execution_count": 8,
   "metadata": {},
   "outputs": [
    {
     "data": {
      "text/plain": [
       "dict_keys(['age', 'prof', 'dep.cons', 'scz.cons', 'grav.cons', 'n.enfant', 'rs', 'ed', 'dr'])"
      ]
     },
     "execution_count": 8,
     "metadata": {},
     "output_type": "execute_result"
    }
   ],
   "source": [
    "dic.keys()"
   ]
  },
  {
   "cell_type": "markdown",
   "metadata": {},
   "source": [
    "3. Construction d'un DataFrame"
   ]
  },
  {
   "cell_type": "code",
   "execution_count": 9,
   "metadata": {},
   "outputs": [
    {
     "data": {
      "text/plain": [
       "(799, 9)"
      ]
     },
     "execution_count": 9,
     "metadata": {},
     "output_type": "execute_result"
    }
   ],
   "source": [
    "data = pd.DataFrame(dic)\n",
    "data.shape"
   ]
  },
  {
   "cell_type": "code",
   "execution_count": 10,
   "metadata": {},
   "outputs": [
    {
     "data": {
      "text/html": [
       "<div>\n",
       "<style scoped>\n",
       "    .dataframe tbody tr th:only-of-type {\n",
       "        vertical-align: middle;\n",
       "    }\n",
       "\n",
       "    .dataframe tbody tr th {\n",
       "        vertical-align: top;\n",
       "    }\n",
       "\n",
       "    .dataframe thead th {\n",
       "        text-align: right;\n",
       "    }\n",
       "</style>\n",
       "<table border=\"1\" class=\"dataframe\">\n",
       "  <thead>\n",
       "    <tr style=\"text-align: right;\">\n",
       "      <th></th>\n",
       "      <th>age</th>\n",
       "      <th>prof</th>\n",
       "      <th>dep.cons</th>\n",
       "      <th>scz.cons</th>\n",
       "      <th>grav.cons</th>\n",
       "      <th>n.enfant</th>\n",
       "      <th>rs</th>\n",
       "      <th>ed</th>\n",
       "      <th>dr</th>\n",
       "    </tr>\n",
       "  </thead>\n",
       "  <tbody>\n",
       "    <tr>\n",
       "      <th>0</th>\n",
       "      <td>31</td>\n",
       "      <td>autre</td>\n",
       "      <td>0</td>\n",
       "      <td>0</td>\n",
       "      <td>1</td>\n",
       "      <td>2</td>\n",
       "      <td>2</td>\n",
       "      <td>1</td>\n",
       "      <td>1</td>\n",
       "    </tr>\n",
       "    <tr>\n",
       "      <th>1</th>\n",
       "      <td>49</td>\n",
       "      <td>NA</td>\n",
       "      <td>0</td>\n",
       "      <td>0</td>\n",
       "      <td>2</td>\n",
       "      <td>7</td>\n",
       "      <td>2</td>\n",
       "      <td>2</td>\n",
       "      <td>1</td>\n",
       "    </tr>\n",
       "    <tr>\n",
       "      <th>2</th>\n",
       "      <td>50@</td>\n",
       "      <td>prof.intermediaire</td>\n",
       "      <td>0</td>\n",
       "      <td>0</td>\n",
       "      <td>2</td>\n",
       "      <td>2</td>\n",
       "      <td>2</td>\n",
       "      <td>3</td>\n",
       "      <td>2</td>\n",
       "    </tr>\n",
       "    <tr>\n",
       "      <th>3</th>\n",
       "      <td>47</td>\n",
       "      <td>ouvrier</td>\n",
       "      <td>0</td>\n",
       "      <td>0</td>\n",
       "      <td>1</td>\n",
       "      <td>0</td>\n",
       "      <td>2</td>\n",
       "      <td>2</td>\n",
       "      <td>2</td>\n",
       "    </tr>\n",
       "    <tr>\n",
       "      <th>4</th>\n",
       "      <td>23</td>\n",
       "      <td>sans emploi</td>\n",
       "      <td>1</td>\n",
       "      <td>0</td>\n",
       "      <td>2</td>\n",
       "      <td>1</td>\n",
       "      <td>2</td>\n",
       "      <td>2</td>\n",
       "      <td>2</td>\n",
       "    </tr>\n",
       "  </tbody>\n",
       "</table>\n",
       "</div>"
      ],
      "text/plain": [
       "   age                prof dep.cons scz.cons grav.cons n.enfant rs ed dr\n",
       "0   31               autre        0        0         1        2  2  1  1\n",
       "1   49                  NA        0        0         2        7  2  2  1\n",
       "2  50@  prof.intermediaire        0        0         2        2  2  3  2\n",
       "3   47             ouvrier        0        0         1        0  2  2  2\n",
       "4   23         sans emploi        1        0         2        1  2  2  2"
      ]
     },
     "execution_count": 10,
     "metadata": {},
     "output_type": "execute_result"
    }
   ],
   "source": [
    "# affichage des 5 premières lignes du jeux de données\n",
    "data.head()"
   ]
  },
  {
   "cell_type": "code",
   "execution_count": 11,
   "metadata": {},
   "outputs": [
    {
     "data": {
      "text/plain": [
       "age          object\n",
       "prof         object\n",
       "dep.cons     object\n",
       "scz.cons     object\n",
       "grav.cons    object\n",
       "n.enfant     object\n",
       "rs           object\n",
       "ed           object\n",
       "dr           object\n",
       "dtype: object"
      ]
     },
     "execution_count": 11,
     "metadata": {},
     "output_type": "execute_result"
    }
   ],
   "source": [
    "data.dtypes"
   ]
  },
  {
   "cell_type": "markdown",
   "metadata": {},
   "source": [
    "**Remarque** : <br>\n",
    "On à finalement pu abouti à un jeu de données affiché dans un format plus adapter et organiser cepandant il n'est pas encore exploitable dans la mesure où certaine variables n'ont pas le type de format adapter (concretement on remarque que les variables numériques sont formater en chaîne de caractère et on peu également noter des caratère inapproprié dans la variable age.\n",
    "dans la suite de ce notebook nous travaillerons à la conversion des données dans leur format approprier àpres les avoir nettoyer."
   ]
  },
  {
   "cell_type": "markdown",
   "metadata": {},
   "source": [
    "III. Etape 3\n",
    "--\n",
    "**i. Traitement et nettoyage de données**"
   ]
  },
  {
   "cell_type": "markdown",
   "metadata": {},
   "source": [
    "1. traitement de la variables `age`"
   ]
  },
  {
   "cell_type": "code",
   "execution_count": 12,
   "metadata": {},
   "outputs": [
    {
     "data": {
      "text/plain": [
       "['31', '49', '50@', '47', '23', '34', '24', '52', '42', '45']"
      ]
     },
     "execution_count": 12,
     "metadata": {},
     "output_type": "execute_result"
    }
   ],
   "source": [
    "list(data.age[:10])"
   ]
  },
  {
   "cell_type": "code",
   "execution_count": 13,
   "metadata": {},
   "outputs": [
    {
     "data": {
      "text/plain": [
       "['@',\n",
       " '#',\n",
       " '#',\n",
       " \"'\",\n",
       " \"'\",\n",
       " '@',\n",
       " 'P',\n",
       " 'a',\n",
       " 'n',\n",
       " 's',\n",
       " \"'\",\n",
       " '@',\n",
       " '@',\n",
       " \"'\",\n",
       " ' ',\n",
       " '_',\n",
       " 'v',\n",
       " 'b',\n",
       " 's',\n",
       " 'a',\n",
       " 'n',\n",
       " 's',\n",
       " 'a']"
      ]
     },
     "execution_count": 13,
     "metadata": {},
     "output_type": "execute_result"
    }
   ],
   "source": [
    "# identification des intrus\n",
    "num = [str(i) for i in range(0,10)]\n",
    "intrus = [j for c in data.age for j in c if j not in num]\n",
    "intrus"
   ]
  },
  {
   "cell_type": "code",
   "execution_count": 14,
   "metadata": {},
   "outputs": [],
   "source": [
    "# nettoyage de la variable age\n",
    "age = []\n",
    "for c in data.age:\n",
    "    for j in intrus:\n",
    "        if j in c:\n",
    "            c = c.replace(j,'')\n",
    "    age.append(c)\n",
    "        \n",
    "data.age = age"
   ]
  },
  {
   "cell_type": "code",
   "execution_count": 15,
   "metadata": {},
   "outputs": [
    {
     "data": {
      "text/plain": [
       "['31', '49', '50', '47', '23', '34', '24', '52', '42', '45']"
      ]
     },
     "execution_count": 15,
     "metadata": {},
     "output_type": "execute_result"
    }
   ],
   "source": [
    "list(data.age[:10])"
   ]
  },
  {
   "cell_type": "markdown",
   "metadata": {},
   "source": [
    "**Remarque** :<br>\n",
    "la varaible age à bel et bien été traité les mauvais caractères on tous été supprimé."
   ]
  },
  {
   "cell_type": "code",
   "execution_count": 16,
   "metadata": {},
   "outputs": [],
   "source": [
    "data.prof = data.prof.replace('prof.intermediaire','intermediaire')"
   ]
  },
  {
   "cell_type": "code",
   "execution_count": 17,
   "metadata": {},
   "outputs": [
    {
     "data": {
      "text/html": [
       "<div>\n",
       "<style scoped>\n",
       "    .dataframe tbody tr th:only-of-type {\n",
       "        vertical-align: middle;\n",
       "    }\n",
       "\n",
       "    .dataframe tbody tr th {\n",
       "        vertical-align: top;\n",
       "    }\n",
       "\n",
       "    .dataframe thead th {\n",
       "        text-align: right;\n",
       "    }\n",
       "</style>\n",
       "<table border=\"1\" class=\"dataframe\">\n",
       "  <thead>\n",
       "    <tr style=\"text-align: right;\">\n",
       "      <th></th>\n",
       "      <th>age</th>\n",
       "      <th>prof</th>\n",
       "      <th>dep.cons</th>\n",
       "      <th>scz.cons</th>\n",
       "      <th>grav.cons</th>\n",
       "      <th>n.enfant</th>\n",
       "      <th>rs</th>\n",
       "      <th>ed</th>\n",
       "      <th>dr</th>\n",
       "    </tr>\n",
       "  </thead>\n",
       "  <tbody>\n",
       "    <tr>\n",
       "      <th>0</th>\n",
       "      <td>31</td>\n",
       "      <td>autre</td>\n",
       "      <td>0</td>\n",
       "      <td>0</td>\n",
       "      <td>1</td>\n",
       "      <td>2</td>\n",
       "      <td>2</td>\n",
       "      <td>1</td>\n",
       "      <td>1</td>\n",
       "    </tr>\n",
       "    <tr>\n",
       "      <th>1</th>\n",
       "      <td>49</td>\n",
       "      <td>NA</td>\n",
       "      <td>0</td>\n",
       "      <td>0</td>\n",
       "      <td>2</td>\n",
       "      <td>7</td>\n",
       "      <td>2</td>\n",
       "      <td>2</td>\n",
       "      <td>1</td>\n",
       "    </tr>\n",
       "    <tr>\n",
       "      <th>2</th>\n",
       "      <td>50</td>\n",
       "      <td>intermediaire</td>\n",
       "      <td>0</td>\n",
       "      <td>0</td>\n",
       "      <td>2</td>\n",
       "      <td>2</td>\n",
       "      <td>2</td>\n",
       "      <td>3</td>\n",
       "      <td>2</td>\n",
       "    </tr>\n",
       "    <tr>\n",
       "      <th>3</th>\n",
       "      <td>47</td>\n",
       "      <td>ouvrier</td>\n",
       "      <td>0</td>\n",
       "      <td>0</td>\n",
       "      <td>1</td>\n",
       "      <td>0</td>\n",
       "      <td>2</td>\n",
       "      <td>2</td>\n",
       "      <td>2</td>\n",
       "    </tr>\n",
       "    <tr>\n",
       "      <th>4</th>\n",
       "      <td>23</td>\n",
       "      <td>sans emploi</td>\n",
       "      <td>1</td>\n",
       "      <td>0</td>\n",
       "      <td>2</td>\n",
       "      <td>1</td>\n",
       "      <td>2</td>\n",
       "      <td>2</td>\n",
       "      <td>2</td>\n",
       "    </tr>\n",
       "  </tbody>\n",
       "</table>\n",
       "</div>"
      ],
      "text/plain": [
       "  age           prof dep.cons scz.cons grav.cons n.enfant rs ed dr\n",
       "0  31          autre        0        0         1        2  2  1  1\n",
       "1  49             NA        0        0         2        7  2  2  1\n",
       "2  50  intermediaire        0        0         2        2  2  3  2\n",
       "3  47        ouvrier        0        0         1        0  2  2  2\n",
       "4  23    sans emploi        1        0         2        1  2  2  2"
      ]
     },
     "execution_count": 17,
     "metadata": {},
     "output_type": "execute_result"
    }
   ],
   "source": [
    "data.head()"
   ]
  },
  {
   "cell_type": "markdown",
   "metadata": {},
   "source": [
    "**ii. conversion des variables dans le bon type**"
   ]
  },
  {
   "cell_type": "code",
   "execution_count": 18,
   "metadata": {},
   "outputs": [],
   "source": [
    "for c in data.columns:\n",
    "    try:\n",
    "        data[c] = pd.to_numeric(data[c])\n",
    "    except ValueError as e:\n",
    "        pass"
   ]
  },
  {
   "cell_type": "code",
   "execution_count": 19,
   "metadata": {},
   "outputs": [
    {
     "name": "stdout",
     "output_type": "stream",
     "text": [
      "===========================================================================\n",
      "Statistique données manquante                            colonnes: 9\n",
      "---------------------------------------------------------------------------\n",
      "           missing value % of missing value data dtypes  Obs\n",
      "dr                   111             13.89%     float64  688\n",
      "ed                   107             13.39%     float64  692\n",
      "rs                   103             12.89%     float64  696\n",
      "n.enfant              26              3.25%     float64  773\n",
      "grav.cons              4               0.5%     float64  795\n",
      "age                    2              0.25%     float64  797\n",
      "prof                   0               0.0%      object  799\n",
      "dep.cons               0               0.0%       int64  799\n",
      "scz.cons               0               0.0%       int64  799\n",
      "===========================================================================\n"
     ]
    }
   ],
   "source": [
    "proc = Processing(data)\n",
    "proc.stat_missing_value()"
   ]
  },
  {
   "cell_type": "markdown",
   "metadata": {},
   "source": [
    "**remarque** :<br>\n",
    "les données on bien été traité et convertir dans le bon type on peut également remarquer l'existance de données manquantes.\n",
    "\n",
    "Etape 4\n",
    "--\n",
    "**i. Traitemet des données manquante**"
   ]
  },
  {
   "cell_type": "code",
   "execution_count": 22,
   "metadata": {},
   "outputs": [
    {
     "data": {
      "image/png": "[encoded data removed]",
      "text/plain": [
       "<Figure size 1080x576 with 2 Axes>"
      ]
     },
     "metadata": {},
     "output_type": "display_data"
    }
   ],
   "source": [
    "import seaborn as sns # Visualisation des données manquantes\n",
    "import matplotlib.pyplot as plt\n",
    "plt.figure(figsize=(15,8))\n",
    "sns.heatmap(data.isna());"
   ]
  },
  {
   "cell_type": "markdown",
   "metadata": {},
   "source": [
    "**Remarque** : <br>\n",
    "cette heatmap nous permet d'identifier graphiquement l'ensemble de nos données manquantes. concretement les espaces en blanc indique la presence de données manquate dans le jeu de données.\n",
    "pour le traitement des données manquantes pour la variable ``age``, nous les remplacerons la valeur moyenne. et pour ce qui est des autre varible nous allons remplaer leur données manquantes par la categorie majoritaire. "
   ]
  },
  {
   "cell_type": "code",
   "execution_count": 23,
   "metadata": {},
   "outputs": [],
   "source": [
    "data['age'] = data['age'].replace(np.nan,data['age'].mean())\n",
    "data['age'] = [int(c) for c in data['age']]"
   ]
  },
  {
   "cell_type": "code",
   "execution_count": 24,
   "metadata": {},
   "outputs": [],
   "source": [
    "for c in data.select_dtypes('float64'):\n",
    "    data[c] = data[c].replace(np.nan,data[c].value_counts().idxmax())\n",
    "    data[c] = [int(c) for c in data[c]]"
   ]
  },
  {
   "cell_type": "code",
   "execution_count": 25,
   "metadata": {},
   "outputs": [
    {
     "data": {
      "text/html": [
       "<div>\n",
       "<style scoped>\n",
       "    .dataframe tbody tr th:only-of-type {\n",
       "        vertical-align: middle;\n",
       "    }\n",
       "\n",
       "    .dataframe tbody tr th {\n",
       "        vertical-align: top;\n",
       "    }\n",
       "\n",
       "    .dataframe thead th {\n",
       "        text-align: right;\n",
       "    }\n",
       "</style>\n",
       "<table border=\"1\" class=\"dataframe\">\n",
       "  <thead>\n",
       "    <tr style=\"text-align: right;\">\n",
       "      <th></th>\n",
       "      <th>age</th>\n",
       "      <th>prof</th>\n",
       "      <th>dep.cons</th>\n",
       "      <th>scz.cons</th>\n",
       "      <th>grav.cons</th>\n",
       "      <th>n.enfant</th>\n",
       "      <th>rs</th>\n",
       "      <th>ed</th>\n",
       "      <th>dr</th>\n",
       "    </tr>\n",
       "  </thead>\n",
       "  <tbody>\n",
       "    <tr>\n",
       "      <th>0</th>\n",
       "      <td>31</td>\n",
       "      <td>autre</td>\n",
       "      <td>0</td>\n",
       "      <td>0</td>\n",
       "      <td>1</td>\n",
       "      <td>2</td>\n",
       "      <td>2</td>\n",
       "      <td>1</td>\n",
       "      <td>1</td>\n",
       "    </tr>\n",
       "    <tr>\n",
       "      <th>1</th>\n",
       "      <td>49</td>\n",
       "      <td>NA</td>\n",
       "      <td>0</td>\n",
       "      <td>0</td>\n",
       "      <td>2</td>\n",
       "      <td>7</td>\n",
       "      <td>2</td>\n",
       "      <td>2</td>\n",
       "      <td>1</td>\n",
       "    </tr>\n",
       "    <tr>\n",
       "      <th>2</th>\n",
       "      <td>50</td>\n",
       "      <td>intermediaire</td>\n",
       "      <td>0</td>\n",
       "      <td>0</td>\n",
       "      <td>2</td>\n",
       "      <td>2</td>\n",
       "      <td>2</td>\n",
       "      <td>3</td>\n",
       "      <td>2</td>\n",
       "    </tr>\n",
       "    <tr>\n",
       "      <th>3</th>\n",
       "      <td>47</td>\n",
       "      <td>ouvrier</td>\n",
       "      <td>0</td>\n",
       "      <td>0</td>\n",
       "      <td>1</td>\n",
       "      <td>0</td>\n",
       "      <td>2</td>\n",
       "      <td>2</td>\n",
       "      <td>2</td>\n",
       "    </tr>\n",
       "    <tr>\n",
       "      <th>4</th>\n",
       "      <td>23</td>\n",
       "      <td>sans emploi</td>\n",
       "      <td>1</td>\n",
       "      <td>0</td>\n",
       "      <td>2</td>\n",
       "      <td>1</td>\n",
       "      <td>2</td>\n",
       "      <td>2</td>\n",
       "      <td>2</td>\n",
       "    </tr>\n",
       "  </tbody>\n",
       "</table>\n",
       "</div>"
      ],
      "text/plain": [
       "   age           prof  dep.cons  scz.cons  grav.cons  n.enfant  rs  ed  dr\n",
       "0   31          autre         0         0          1         2   2   1   1\n",
       "1   49             NA         0         0          2         7   2   2   1\n",
       "2   50  intermediaire         0         0          2         2   2   3   2\n",
       "3   47        ouvrier         0         0          1         0   2   2   2\n",
       "4   23    sans emploi         1         0          2         1   2   2   2"
      ]
     },
     "execution_count": 25,
     "metadata": {},
     "output_type": "execute_result"
    }
   ],
   "source": [
    "data.head()"
   ]
  },
  {
   "cell_type": "code",
   "execution_count": 26,
   "metadata": {},
   "outputs": [
    {
     "name": "stdout",
     "output_type": "stream",
     "text": [
      "===========================================================================\n",
      "Statistique données manquante                            colonnes: 9\n",
      "---------------------------------------------------------------------------\n",
      "           missing value % of missing value data dtypes  Obs\n",
      "age                    0               0.0%       int64  799\n",
      "prof                   0               0.0%      object  799\n",
      "dep.cons               0               0.0%       int64  799\n",
      "scz.cons               0               0.0%       int64  799\n",
      "grav.cons              0               0.0%       int64  799\n",
      "n.enfant               0               0.0%       int64  799\n",
      "rs                     0               0.0%       int64  799\n",
      "ed                     0               0.0%       int64  799\n",
      "dr                     0               0.0%       int64  799\n",
      "===========================================================================\n"
     ]
    }
   ],
   "source": [
    "proc.stat_missing_value()"
   ]
  },
  {
   "cell_type": "code",
   "execution_count": 27,
   "metadata": {},
   "outputs": [],
   "source": [
    "#sauvegade des données\n",
    "data.to_csv('clean_dataset.csv',index= False)"
   ]
  },
  {
   "cell_type": "code",
   "execution_count": null,
   "metadata": {},
   "outputs": [],
   "source": []
  }
 ],
 "metadata": {
  "kernelspec": {
   "display_name": "Python 3",
   "language": "python",
   "name": "python3"
  },
  "language_info": {
   "codemirror_mode": {
    "name": "ipython",
    "version": 3
   },
   "file_extension": ".py",
   "mimetype": "text/x-python",
   "name": "python",
   "nbconvert_exporter": "python",
   "pygments_lexer": "ipython3",
   "version": "3.7.1"
  }
 },
 "nbformat": 4,
 "nbformat_minor": 4
}
